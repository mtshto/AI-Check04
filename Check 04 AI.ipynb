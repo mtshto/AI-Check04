{
 "cells": [
  {
   "cell_type": "code",
   "execution_count": 1,
   "metadata": {},
   "outputs": [],
   "source": [
    "%matplotlib inline\n",
    "\n",
    "import pandas as pd\n",
    "import matplotlib.pyplot as plt\n",
    "import seaborn as sns\n",
    "import numpy as np\n",
    "from sklearn.preprocessing import StandardScaler, LabelEncoder\n",
    "from sklearn.decomposition import PCA\n",
    "from sklearn.cluster import KMeans\n",
    "from sklearn.neighbors import KNeighborsClassifier\n",
    "from sklearn.model_selection import train_test_split, cross_val_score\n",
    "from sklearn.metrics import silhouette_score"
   ]
  },
  {
   "cell_type": "code",
   "execution_count": 2,
   "metadata": {},
   "outputs": [],
   "source": [
    "# Leitura do arquivo CSV que contém os dados do cliente para análise de crédito\n",
    "df = pd.read_csv('solicitacoescredito.csv')"
   ]
  },
  {
   "cell_type": "markdown",
   "metadata": {},
   "source": [
    "## Filtro das colunas para melhorar a precisão do nosso modelo"
   ]
  },
  {
   "cell_type": "markdown",
   "metadata": {},
   "source": []
  },
  {
   "cell_type": "code",
   "execution_count": 3,
   "metadata": {},
   "outputs": [],
   "source": [
    "# Seleção das colunas mais importantes para a análise de crédito\n",
    "# Essas colunas podem conter informações sobre o risco de crédito e comportamento financeiro\n",
    "colunas_importantes = [\n",
    "    \"maiorAtraso\",  # Tempo de maior atraso nos pagamentos\n",
    "    \"margemBrutaAcumulada\",  # Margem bruta acumulada da empresa\n",
    "    \"percentualProtestos\",  # Percentual de protestos financeiros contra a empresa\n",
    "    \"prazoMedioRecebimentoVendas\",  # Prazo médio de recebimento das vendas\n",
    "    \"titulosEmAberto\",  # Títulos financeiros ainda em aberto\n",
    "    \"valorSolicitado\",  # Valor de crédito solicitado pela empresa\n",
    "    \"status\",  # Status atual da solicitação de crédito\n",
    "    \"percentualRisco\",  # Percentual de risco associado à empresa\n",
    "    \"valorAprovado\",  # Valor de crédito aprovado\n",
    "    \"endividamento\",  # Nível de endividamento da empresa\n",
    "    \"faturamentoBruto\",  # Faturamento bruto da empresa\n",
    "    \"limiteEmpresaAnaliseCredito\",  # Limite de crédito atribuído pela análise\n",
    "    \"scorePontualidade\"  # Pontuação de pontualidade de pagamento\n",
    "]"
   ]
  },
  {
   "cell_type": "code",
   "execution_count": 4,
   "metadata": {},
   "outputs": [],
   "source": [
    "# Filtragem do DataFrame para manter apenas as colunas importantes e remoção de dados ausentes\n",
    "df_filtrado = df[colunas_importantes].dropna()"
   ]
  },
  {
   "cell_type": "markdown",
   "metadata": {},
   "source": [
    "Esse bloco de código está utilizando o `LabelEncoder` da biblioteca `sklearn` para transformar variáveis categóricas em valores numéricos, facilitando o uso dessas variáveis em algoritmos de machine learning que requerem entradas numéricas. Aqui está o que cada linha faz:\n",
    "\n",
    "1. **Instanciando o `LabelEncoder`:**\n",
    "   - `le_status = LabelEncoder()` e `le_definicaoRisco = LabelEncoder()`: Cria dois objetos `LabelEncoder`, um para codificar a coluna `status` e outro para `definicaoRisco`. O `LabelEncoder` transforma categorias em números inteiros, associando cada categoria a um valor numérico único.\n",
    "\n",
    "2. **Codificação das variáveis categóricas:**\n",
    "   - `df_filtrado['status'] = le_status.fit_transform(df_filtrado['status'])`: Aplica o `LabelEncoder` à coluna `status` do DataFrame `df_filtrado`. O método `fit_transform` ajusta o encoder às categorias da coluna e substitui os valores categóricos por valores numéricos correspondentes.\n",
    "   \n",
    "   - `df_filtrado['definicaoRisco'] = le_definicaoRisco.fit_transform(df_filtrado['definicaoRisco'])`: Faz o mesmo com a coluna `definicaoRisco`, transformando os valores categóricos dessa coluna em números.\n",
    "\n",
    "Isso é útil quando você tem variáveis categóricas (como \"baixo\", \"médio\", \"alto\" para risco) que precisam ser transformadas para valores numéricos (por exemplo, 0, 1, 2) antes de serem usadas em um modelo de machine learning."
   ]
  },
  {
   "cell_type": "code",
   "execution_count": 5,
   "metadata": {},
   "outputs": [],
   "source": [
    "# Codificação de variáveis categóricas para numéricas usando LabelEncoder\n",
    "# O 'status' e 'definicaoRisco' são convertidos para números\n",
    "le_status = LabelEncoder()\n",
    "\n",
    "df_filtrado['status'] = le_status.fit_transform(df_filtrado['status'])"
   ]
  },
  {
   "cell_type": "code",
   "execution_count": 6,
   "metadata": {},
   "outputs": [],
   "source": [
    "# Pré-processamento dos dados: Normalização\n",
    "# Os dados são normalizados para que todas as variáveis tenham a mesma escala,\n",
    "# evitando que variáveis com maiores magnitudes dominem o modelo\n",
    "scaler = StandardScaler()\n",
    "X_scaled = scaler.fit_transform(df_filtrado.dropna())"
   ]
  },
  {
   "cell_type": "markdown",
   "metadata": {},
   "source": [
    "### 3. **Aplicar PCA para redução de dimensionalidade:**\n",
    "   - **Sugestão:** Aplicar **PCA (Análise de Componentes Principais)** antes de realizar o K-Means. Isso ajuda a capturar a variabilidade mais importante dos dados, reduzindo o número de dimensões e facilitando a detecção de padrões nos clusters.\n",
    "   - **Impacto:** Pode aumentar a eficiência do algoritmo de clustering, melhorando o desempenho em termos de tempo e qualidade da segmentação."
   ]
  },
  {
   "cell_type": "code",
   "execution_count": 7,
   "metadata": {},
   "outputs": [],
   "source": [
    "# Redução de dimensionalidade usando PCA (mantendo 90% da variância)\n",
    "pca = PCA(n_components=0.9)\n",
    "X_pca = pca.fit_transform(X_scaled)"
   ]
  },
  {
   "cell_type": "code",
   "execution_count": 8,
   "metadata": {},
   "outputs": [
    {
     "name": "stdout",
     "output_type": "stream",
     "text": [
      "Número de componentes principais selecionados: 10\n"
     ]
    }
   ],
   "source": [
    "# Ver quantos componentes principais foram selecionados para representar 90% da variância\n",
    "print(f\"Número de componentes principais selecionados: {X_pca.shape[1]}\")"
   ]
  },
  {
   "cell_type": "code",
   "execution_count": 9,
   "metadata": {},
   "outputs": [],
   "source": [
    "# Definição da faixa de valores de K (número de clusters) para análise\n",
    "range_n_clusters = range(2, 20)  # Vamos testar K de 2 até 10"
   ]
  },
  {
   "cell_type": "code",
   "execution_count": 10,
   "metadata": {},
   "outputs": [],
   "source": [
    "# Lista para armazenar os scores de silhueta para diferentes valores de K\n",
    "silhouette_scores = []"
   ]
  },
  {
   "cell_type": "code",
   "execution_count": 11,
   "metadata": {},
   "outputs": [
    {
     "name": "stderr",
     "output_type": "stream",
     "text": [
      "c:\\Users\\Administrador\\AppData\\Local\\Programs\\Python\\Python312\\Lib\\site-packages\\joblib\\externals\\loky\\backend\\context.py:136: UserWarning: Could not find the number of physical cores for the following reason:\n",
      "invalid literal for int() with base 10: ''\n",
      "Returning the number of logical cores instead. You can silence this warning by setting LOKY_MAX_CPU_COUNT to the number of cores you want to use.\n",
      "  warnings.warn(\n",
      "  File \"c:\\Users\\Administrador\\AppData\\Local\\Programs\\Python\\Python312\\Lib\\site-packages\\joblib\\externals\\loky\\backend\\context.py\", line 268, in _count_physical_cores\n",
      "    cpu_count_physical = sum(map(int, cpu_info))\n",
      "                         ^^^^^^^^^^^^^^^^^^^^^^^\n"
     ]
    },
    {
     "name": "stdout",
     "output_type": "stream",
     "text": [
      "Para n_clusters = 2, o Silhouette Score é 0.5549234670836888\n",
      "Para n_clusters = 3, o Silhouette Score é 0.48501375214803377\n",
      "Para n_clusters = 4, o Silhouette Score é 0.4895650728556141\n",
      "Para n_clusters = 5, o Silhouette Score é 0.20487931993681116\n",
      "Para n_clusters = 6, o Silhouette Score é 0.2073801667969667\n",
      "Para n_clusters = 7, o Silhouette Score é 0.21088906850825567\n",
      "Para n_clusters = 8, o Silhouette Score é 0.21056416397719843\n",
      "Para n_clusters = 9, o Silhouette Score é 0.21843772748290566\n",
      "Para n_clusters = 10, o Silhouette Score é 0.2075720058277016\n",
      "Para n_clusters = 11, o Silhouette Score é 0.21334770014957036\n",
      "Para n_clusters = 12, o Silhouette Score é 0.22927572823507084\n",
      "Para n_clusters = 13, o Silhouette Score é 0.2291493221569307\n",
      "Para n_clusters = 14, o Silhouette Score é 0.2297070443223983\n",
      "Para n_clusters = 15, o Silhouette Score é 0.19804046451865218\n",
      "Para n_clusters = 16, o Silhouette Score é 0.18217142514974996\n",
      "Para n_clusters = 17, o Silhouette Score é 0.18904290164337056\n",
      "Para n_clusters = 18, o Silhouette Score é 0.18756475933290664\n",
      "Para n_clusters = 19, o Silhouette Score é 0.196240142999096\n"
     ]
    }
   ],
   "source": [
    "# Loop para aplicar K-Means e calcular o Silhouette Score para cada valor de K\n",
    "for n_clusters in range_n_clusters:\n",
    "    kmeans = KMeans(n_clusters=n_clusters, random_state=42)\n",
    "    cluster_labels = kmeans.fit_predict(X_pca)\n",
    "    \n",
    "    silhouette_avg = silhouette_score(X_pca, cluster_labels)\n",
    "    silhouette_scores.append(silhouette_avg)\n",
    "    print(f\"Para n_clusters = {n_clusters}, o Silhouette Score é {silhouette_avg}\")"
   ]
  },
  {
   "cell_type": "code",
   "execution_count": 12,
   "metadata": {},
   "outputs": [
    {
     "data": {
      "image/png": "[encoded data removed]",
      "text/plain": [
       "<Figure size 1000x600 with 1 Axes>"
      ]
     },
     "metadata": {},
     "output_type": "display_data"
    }
   ],
   "source": [
    "# Gráfico para mostrar o Silhouette Score em função de K\n",
    "plt.figure(figsize=(10, 6))\n",
    "plt.plot(range_n_clusters, silhouette_scores, marker='o', linestyle='-', color='b')\n",
    "plt.title('Silhouette Score para diferentes valores de K')\n",
    "plt.xlabel('Número de clusters (K)')\n",
    "plt.ylabel('Silhouette Score')\n",
    "plt.grid(True)\n",
    "plt.show()"
   ]
  },
  {
   "cell_type": "markdown",
   "metadata": {},
   "source": [
    "### 2. **Análise da inércia do K-Means:**\n",
    "   - **Sugestão:** Além do Silhouette Score, você pode adicionar a análise da **inércia** (a soma das distâncias quadradas dentro dos clusters) para identificar onde há uma boa separação entre clusters. Isso pode ser feito ao plotar a inércia em função de K para encontrar o **\"cotovelo\"** da curva.\n",
    "   - **Impacto:** A escolha de um K adequado evita a criação de clusters muito pequenos ou redundantes, otimizando a análise."
   ]
  },
  {
   "cell_type": "code",
   "execution_count": 13,
   "metadata": {},
   "outputs": [],
   "source": [
    "# Aplicar o método do \"cotovelo\" para inércia e comparar com o Silhouette Score\n",
    "inertias = []\n",
    "for k in range_n_clusters:\n",
    "    kmeans = KMeans(n_clusters=k, random_state=42)\n",
    "    kmeans.fit(X_pca)\n",
    "    inertias.append(kmeans.inertia_)"
   ]
  },
  {
   "cell_type": "code",
   "execution_count": 14,
   "metadata": {},
   "outputs": [
    {
     "data": {
      "image/png": "[encoded data removed]",
      "text/plain": [
       "<Figure size 1000x600 with 1 Axes>"
      ]
     },
     "metadata": {},
     "output_type": "display_data"
    }
   ],
   "source": [
    "# Gráfico do método do cotovelo para inércia\n",
    "plt.figure(figsize=(10, 6))\n",
    "plt.plot(range_n_clusters, inertias, marker='o', linestyle='-', color='r')\n",
    "plt.title('Método do Cotovelo para encontrar o melhor K')\n",
    "plt.xlabel('Número de clusters (K)')\n",
    "plt.ylabel('Inércia')\n",
    "plt.grid(True)\n",
    "plt.show()"
   ]
  },
  {
   "cell_type": "markdown",
   "metadata": {},
   "source": [
    "\n",
    "### 1. **Melhor ajuste do número de clusters (K):**\n",
    "   - **Sugestão:** Avaliar a escolha de **K**. O gráfico de Silhouette Score mostra que o valor máximo do score ocorre em torno de **K = 15** (0.283). Essa informação sugere que este número de clusters pode ser uma boa escolha para separar os dados de forma eficaz.\n",
    "   - **Impacto:** Isso pode melhorar a qualidade da segmentação de clientes, agrupando-os de acordo com características mais homogêneas."
   ]
  },
  {
   "cell_type": "code",
   "execution_count": 15,
   "metadata": {},
   "outputs": [],
   "source": [
    "# Aplicar K-Means com o valor de K escolhido com base nos gráficos (exemplo, K=15)\n",
    "optimal_k = 10\n",
    "kmeans = KMeans(n_clusters=optimal_k, random_state=42)\n",
    "df_filtrado['cluster'] = kmeans.fit_predict(X_pca)"
   ]
  },
  {
   "cell_type": "code",
   "execution_count": 16,
   "metadata": {},
   "outputs": [],
   "source": [
    "# Divisão dos dados em treino e teste para classificação usando KNN (80% treino e 20% teste)\n",
    "X_train, X_test, y_train, y_test = train_test_split(X_pca, df_filtrado['cluster'], test_size=0.2, random_state=42)"
   ]
  },
  {
   "cell_type": "markdown",
   "metadata": {},
   "source": [
    "4. Validação cruzada no KNN:\n",
    "Sugestão: Em vez de apenas uma divisão simples entre treino e teste, implementar uma validação cruzada (cross-validation) no KNN. Isso permite avaliar melhor o desempenho do modelo ao testar diferentes divisões dos dados.\n",
    "Impacto: Aumenta a robustez da avaliação do modelo KNN e reduz a variabilidade dos resultados."
   ]
  },
  {
   "cell_type": "code",
   "execution_count": 17,
   "metadata": {},
   "outputs": [],
   "source": [
    "# Treinamento do modelo KNN com validação cruzada\n",
    "knn = KNeighborsClassifier(n_neighbors=5)"
   ]
  },
  {
   "cell_type": "code",
   "execution_count": 18,
   "metadata": {},
   "outputs": [
    {
     "name": "stderr",
     "output_type": "stream",
     "text": [
      "c:\\Users\\Administrador\\AppData\\Local\\Programs\\Python\\Python312\\Lib\\site-packages\\sklearn\\model_selection\\_split.py:776: UserWarning: The least populated class in y has only 2 members, which is less than n_splits=5.\n",
      "  warnings.warn(\n"
     ]
    },
    {
     "name": "stdout",
     "output_type": "stream",
     "text": [
      "Cross-Validation Accuracy: 0.9481600781436239\n"
     ]
    }
   ],
   "source": [
    "# Validação cruzada para avaliar o desempenho do KNN\n",
    "cv_scores = cross_val_score(knn, X_train, y_train, cv=5)  # 5-fold cross-validation\n",
    "print(f\"Cross-Validation Accuracy: {cv_scores.mean()}\")"
   ]
  },
  {
   "cell_type": "code",
   "execution_count": 19,
   "metadata": {},
   "outputs": [
    {
     "name": "stdout",
     "output_type": "stream",
     "text": [
      "Acurácia do KNN no conjunto de teste: 0.9564032697547684\n"
     ]
    }
   ],
   "source": [
    "# Treinamento final do modelo KNN e avaliação nos dados de teste\n",
    "knn.fit(X_train, y_train)\n",
    "accuracy = knn.score(X_test, y_test)\n",
    "print(f\"Acurácia do KNN no conjunto de teste: {accuracy}\")"
   ]
  },
  {
   "cell_type": "code",
   "execution_count": 20,
   "metadata": {},
   "outputs": [],
   "source": [
    "# Cálculo da média do limite de crédito por cluster\n",
    "pd.set_option('display.float_format', '{:.2f}'.format)  # Evitar notação científica\n",
    "cluster_limits = df_filtrado.groupby('cluster')['limiteEmpresaAnaliseCredito'].mean()"
   ]
  },
  {
   "cell_type": "code",
   "execution_count": 21,
   "metadata": {},
   "outputs": [
    {
     "name": "stdout",
     "output_type": "stream",
     "text": [
      "Resumo dos clusters com perfil de solicitação de empréstimo e condição de pagador exportado com sucesso para resumo_clusters_com_perfil_emprestimo_e_condicao_pagador.xlsx\n"
     ]
    }
   ],
   "source": [
    "# Cálculo de estatísticas detalhadas por cluster, incluindo mínimo, médio e máximo\n",
    "cluster_summary = df_filtrado.groupby('cluster').agg({\n",
    "    'limiteEmpresaAnaliseCredito': ['min', 'mean', 'max', 'std'],  # Mínimo, média, máximo e desvio padrão do limite de crédito\n",
    "    'faturamentoBruto': ['min', 'mean', 'max'],  # Mínimo, média e máximo do faturamento bruto\n",
    "    'endividamento': ['min', 'mean', 'max'],  # Mínimo, média e máximo do endividamento\n",
    "    'percentualProtestos': ['min', 'mean', 'max'],  # Mínimo, média e máximo do percentual de protestos\n",
    "    'maiorAtraso': ['min', 'mean', 'max'],  # Mínimo, média e máximo do maior atraso nos pagamentos\n",
    "    'scorePontualidade': ['min', 'mean', 'max']  # Mínimo, média e máximo do score de pontualidade\n",
    "}).reset_index()\n",
    "\n",
    "# Renomear colunas para facilitar a leitura\n",
    "cluster_summary.columns = ['Cluster', \n",
    "                           'Limite Mínimo', 'Limite Médio', 'Limite Máximo', 'Desvio Padrão Limite', \n",
    "                           'Faturamento Mínimo', 'Faturamento Médio', 'Faturamento Máximo', \n",
    "                           'Endividamento Mínimo', 'Endividamento Médio', 'Endividamento Máximo', \n",
    "                           'Percentual de Protestos Mínimo', 'Percentual de Protestos Médio', 'Percentual de Protestos Máximo',\n",
    "                           'Maior Atraso Mínimo', 'Maior Atraso Médio', 'Maior Atraso Máximo',\n",
    "                           'Score de Pontualidade Mínimo', 'Score de Pontualidade Médio', 'Score de Pontualidade Máximo']\n",
    "\n",
    "# Cálculo da diferença entre o Endividamento Máximo e o Limite Máximo\n",
    "cluster_summary['Diferença Endividamento-Limite'] = cluster_summary['Endividamento Máximo'] - cluster_summary['Limite Máximo']\n",
    "\n",
    "# Função para classificar a diferença em faixas de risco\n",
    "def classificar_risco(diferenca):\n",
    "    if diferenca <= 0:\n",
    "        return 'Muito Baixo'\n",
    "    elif diferenca <= 10000:  # Exemplo de limite (ajuste conforme necessário)\n",
    "        return 'Baixo'\n",
    "    elif diferenca <= 50000:\n",
    "        return 'Médio'\n",
    "    elif diferenca <= 100000:\n",
    "        return 'Alto'\n",
    "    else:\n",
    "        return 'Muito Alto'\n",
    "\n",
    "# Aplicar a classificação de risco\n",
    "cluster_summary['Perfil de Solicitação de Empréstimo'] = cluster_summary['Diferença Endividamento-Limite'].apply(classificar_risco)\n",
    "\n",
    "# Função para classificar a condição do pagador com base no Maior Atraso Médio\n",
    "def classificar_pagador(atraso):\n",
    "    if atraso <= 10:\n",
    "        return 'Ótimo Pagador'\n",
    "    elif atraso <= 30:\n",
    "        return 'Bom Pagador'\n",
    "    elif atraso <= 50:\n",
    "        return 'Médio Pagador'\n",
    "    elif atraso <= 100:\n",
    "        return 'Mal Pagador'\n",
    "    else:\n",
    "        return 'Péssimo Pagador'\n",
    "\n",
    "# Aplicar a classificação de pagador\n",
    "cluster_summary['Condição de Pagador'] = cluster_summary['Maior Atraso Médio'].apply(classificar_pagador)\n",
    "\n",
    "# Exportar o resumo dos clusters para um arquivo Excel com o perfil de solicitação de empréstimo e condição de pagador\n",
    "arquivo_excel = 'resumo_clusters_com_perfil_emprestimo_e_condicao_pagador.xlsx'\n",
    "cluster_summary.to_excel(arquivo_excel, index=False)\n",
    "\n",
    "print(f\"Resumo dos clusters com perfil de solicitação de empréstimo e condição de pagador exportado com sucesso para {arquivo_excel}\")\n"
   ]
  },
  {
   "cell_type": "code",
   "execution_count": 22,
   "metadata": {},
   "outputs": [
    {
     "name": "stdout",
     "output_type": "stream",
     "text": [
      "O novo cliente foi classificado no Cluster 5\n",
      "Resumo do Cluster:\n",
      "   Cluster  Limite Mínimo  Limite Médio  Limite Máximo  Desvio Padrão Limite  \\\n",
      "5        5           0.00    2776979.48    70561800.00            7127684.75   \n",
      "\n",
      "   Faturamento Mínimo  Faturamento Médio  Faturamento Máximo  \\\n",
      "5                0.00        84700751.16       1808539000.00   \n",
      "\n",
      "   Endividamento Mínimo  Endividamento Médio  ...  \\\n",
      "5                  0.00           2953874.93  ...   \n",
      "\n",
      "   Percentual de Protestos Máximo  Maior Atraso Mínimo  Maior Atraso Médio  \\\n",
      "5                            0.00                    0               30.27   \n",
      "\n",
      "   Maior Atraso Máximo  Score de Pontualidade Mínimo  \\\n",
      "5                  315                          0.00   \n",
      "\n",
      "   Score de Pontualidade Médio  Score de Pontualidade Máximo  \\\n",
      "5                         0.94                          1.00   \n",
      "\n",
      "   Diferença Endividamento-Limite  Perfil de Solicitação de Empréstimo  \\\n",
      "5                     -4913800.00                          Muito Baixo   \n",
      "\n",
      "   Condição de Pagador  \n",
      "5        Médio Pagador  \n",
      "\n",
      "[1 rows x 23 columns]\n"
     ]
    }
   ],
   "source": [
    "def coletar_dados_novo_cliente():\n",
    "    \"\"\"\n",
    "    Coleta os dados do novo cliente por meio de input() e retorna um DataFrame com esses dados.\n",
    "    \n",
    "    Retorna:\n",
    "    - Um DataFrame contendo os dados do novo cliente.\n",
    "    \"\"\"\n",
    "    maior_atraso = float(input(\"Digite o maior atraso nos pagamentos: \"))\n",
    "    margem_bruta_acumulada = float(input(\"Digite a margem bruta acumulada (ex: 0.05 para 5%): \"))\n",
    "    percentual_protestos = float(input(\"Digite o percentual de protestos (ex: 0.02 para 2%): \"))\n",
    "    prazo_medio_recebimento_vendas = int(input(\"Digite o prazo médio de recebimento das vendas: \"))\n",
    "    titulos_em_aberto = int(input(\"Digite a quantidade de títulos em aberto: \"))\n",
    "    valor_solicitado = float(input(\"Digite o valor solicitado: \"))\n",
    "    status = int(input(\"Digite o status do cliente (0 para inativo, 1 para ativo): \"))\n",
    "    percentual_risco = float(input(\"Digite o percentual de risco (ex: 0.10 para 10%): \"))\n",
    "    valor_aprovado = float(input(\"Digite o valor aprovado: \"))\n",
    "    endividamento = float(input(\"Digite o endividamento: \"))\n",
    "    faturamento_bruto = float(input(\"Digite o faturamento bruto: \"))\n",
    "    limite_analise_credito = float(input(\"Digite o limite de crédito aprovado na análise: \"))\n",
    "    score_pontualidade = float(input(\"Digite o score de pontualidade: \"))\n",
    "\n",
    "    # Criar DataFrame com os dados do cliente\n",
    "    novo_cliente = pd.DataFrame({\n",
    "        'maiorAtraso': [maior_atraso],\n",
    "        'margemBrutaAcumulada': [margem_bruta_acumulada],\n",
    "        'percentualProtestos': [percentual_protestos],\n",
    "        'prazoMedioRecebimentoVendas': [prazo_medio_recebimento_vendas],\n",
    "        'titulosEmAberto': [titulos_em_aberto],\n",
    "        'valorSolicitado': [valor_solicitado],\n",
    "        'status': [status],\n",
    "        'percentualRisco': [percentual_risco],\n",
    "        'valorAprovado': [valor_aprovado],\n",
    "        'endividamento': [endividamento],\n",
    "        'faturamentoBruto': [faturamento_bruto],\n",
    "        'limiteEmpresaAnaliseCredito': [limite_analise_credito],\n",
    "        'scorePontualidade': [score_pontualidade]\n",
    "    })\n",
    "\n",
    "    return novo_cliente\n",
    "\n",
    "\n",
    "def classificar_novo_cliente(novo_cliente, scaler, pca, kmeans_model, df_cluster_summary):\n",
    "    \"\"\"\n",
    "    Classifica um novo cliente em um dos clusters predefinidos com base nas características do cliente.\n",
    "\n",
    "    Parâmetros:\n",
    "    - novo_cliente: Um DataFrame com as informações do novo cliente (deve ter as mesmas colunas do conjunto de dados original).\n",
    "    - scaler: O objeto de escalonamento usado no pré-processamento dos dados originais.\n",
    "    - pca: O objeto PCA usado para reduzir a dimensionalidade dos dados originais.\n",
    "    - kmeans_model: O modelo K-Means treinado.\n",
    "    - df_cluster_summary: DataFrame com o resumo dos clusters para verificar o perfil de cada cluster.\n",
    "\n",
    "    Retorna:\n",
    "    - O cluster ao qual o novo cliente pertence e o resumo do cluster correspondente.\n",
    "    \"\"\"\n",
    "    \n",
    "    # Pré-processamento do novo cliente (normalização e PCA)\n",
    "    novo_cliente_scaled = scaler.transform(novo_cliente)\n",
    "    novo_cliente_pca = pca.transform(novo_cliente_scaled)\n",
    "    \n",
    "    # Predição do cluster\n",
    "    cluster_previsto = kmeans_model.predict(novo_cliente_pca)[0]\n",
    "    \n",
    "    # Obter o resumo do cluster correspondente\n",
    "    resumo_cluster = df_cluster_summary[df_cluster_summary['Cluster'] == cluster_previsto]\n",
    "    \n",
    "    return cluster_previsto, resumo_cluster\n",
    "\n",
    "\n",
    "# Exemplo de uso:\n",
    "novo_cliente = coletar_dados_novo_cliente()\n",
    "\n",
    "# Classificação do novo cliente\n",
    "cluster_previsto, resumo_cluster = classificar_novo_cliente(\n",
    "    novo_cliente, scaler, pca, kmeans, cluster_summary\n",
    ")\n",
    "\n",
    "print(f\"O novo cliente foi classificado no Cluster {cluster_previsto}\")\n",
    "print(\"Resumo do Cluster:\")\n",
    "print(resumo_cluster)\n"
   ]
  },
  {
   "cell_type": "markdown",
   "metadata": {},
   "source": [
    "### Resultado Final da Análise:\n",
    "- **Segmentação de clientes**: Com um número adequado de clusters, você terá grupos de clientes com características financeiras similares, como faturamento, endividamento e risco. Esses grupos podem ser usados para definir políticas de crédito personalizadas.\n",
    "- **Classificação de novos clientes**: Usando o modelo KNN treinado, será possível classificar novos clientes em um dos clusters já formados, recomendando limites de crédito de acordo com o perfil identificado no cluster.\n",
    "- **Acurácia**: A acurácia de 95.77% com o KNN sugere que o modelo está bastante eficiente em classificar os clientes corretamente."
   ]
  },
  {
   "cell_type": "markdown",
   "metadata": {},
   "source": [
    "\n",
    "### Melhorias Implementadas:\n",
    "1. **PCA (Análise de Componentes Principais)** foi adicionada para reduzir a dimensionalidade dos dados e preservar 90% da variância.\n",
    "2. **Silhouette Score** foi calculado para diferentes valores de K, como já era feito, mas agora também foi adicionado o método do **cotovelo** com a inércia para ajudar a escolher o número ideal de clusters.\n",
    "3. A divisão dos dados foi mantida, mas agora o **KNN** é avaliado com **validação cruzada (cross-validation)** para aumentar a robustez da avaliação do modelo.\n",
    "4. **Visualização aprimorada** dos resultados para melhor interpretação da escolha de K e da performance dos clusters.\n",
    "\n",
    "### Impacto:\n",
    "- **Melhoria na escolha de K** com base no Silhouette Score e na inércia.\n",
    "- **Redução de dimensionalidade** com PCA ajuda a tornar o modelo mais eficiente e menos propenso a overfitting.\n",
    "- **Validação cruzada** garante uma avaliação mais robusta da performance do modelo KNN.\n",
    "- **Segmentação clara dos clusters** para análise mais detalhada do perfil de cada grupo de clientes.\n",
    "\n",
    "Essas alterações visam melhorar a performance e a interpretabilidade dos resultados, ajudando a empresa a traçar estratégias de crédito mais eficazes."
   ]
  }
 ],
 "metadata": {
  "kernelspec": {
   "display_name": "Python 3",
   "language": "python",
   "name": "python3"
  },
  "language_info": {
   "codemirror_mode": {
    "name": "ipython",
    "version": 3
   },
   "file_extension": ".py",
   "mimetype": "text/x-python",
   "name": "python",
   "nbconvert_exporter": "python",
   "pygments_lexer": "ipython3",
   "version": "3.12.2"
  },
  "orig_nbformat": 4
 },
 "nbformat": 4,
 "nbformat_minor": 2
}
